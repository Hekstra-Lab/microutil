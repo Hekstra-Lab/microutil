{
 "cells": [
  {
   "cell_type": "code",
   "execution_count": null,
   "id": "clear-thing",
   "metadata": {},
   "outputs": [],
   "source": [
    "%matplotlib ipympl\n",
    "%load_ext autoreload\n",
    "%autoreload 2\n",
    "import dask\n",
    "import matplotlib.pyplot as plt\n",
    "import microutil as mu\n",
    "import mpl_interactions.ipyplot as iplt\n",
    "import numpy as np\n",
    "import xarray as xr\n",
    "from mpl_interactions import hyperslicer\n",
    "import tifffile\n"
   ]
  },
  {
   "cell_type": "code",
   "execution_count": null,
   "id": "twelve-demand",
   "metadata": {},
   "outputs": [],
   "source": [
    "BF = xr.load_dataarray('BF-AY-0-52-2.nc')\n",
    "updated_mask = xr.load_dataarray('AY-0-50-2-updated-mask.nc')\n"
   ]
  },
  {
   "cell_type": "code",
   "execution_count": null,
   "id": "worse-owner",
   "metadata": {},
   "outputs": [],
   "source": [
    "updated_mask = mu.manual_segmentation(BF, updated_mask)\n"
   ]
  },
  {
   "cell_type": "code",
   "execution_count": null,
   "id": "revised-publisher",
   "metadata": {},
   "outputs": [],
   "source": [
    "# indiv = mu.individualize(updated_mask, min_distance=5, min_area=25)\n",
    "# indiv = mu.manual_segmentation(BF_subset.load(), indiv)\n",
    "indiv = xr.load_dataarray('AY-0-50-2-indiv-corrected.nc')\n"
   ]
  },
  {
   "cell_type": "code",
   "execution_count": null,
   "id": "romantic-trade",
   "metadata": {},
   "outputs": [],
   "source": [
    "bad_frames = mu.track_utils.check_cell_numbers(BF, indiv)\n",
    "while bad_frames is not None:\n",
    "    bad_frames = mu.track_utils.check_cell_numbers(BF, indiv)\n"
   ]
  },
  {
   "cell_type": "code",
   "execution_count": null,
   "id": "hourly-professional",
   "metadata": {},
   "outputs": [],
   "source": [
    "# just for safety check\n",
    "# just checkign the first time point\n",
    "# ideally this would also broadcsat over time etc\n",
    "mu.track_utils.find_duplicate_labels(indiv[0])"
   ]
  },
  {
   "cell_type": "code",
   "execution_count": null,
   "id": "assumed-strength",
   "metadata": {},
   "outputs": [],
   "source": [
    "tracked = mu.track(indiv)"
   ]
  },
  {
   "cell_type": "code",
   "execution_count": null,
   "id": "located-vacation",
   "metadata": {},
   "outputs": [],
   "source": [
    "# check if any cells got deleted along the way\n",
    "bad_frames = mu.track_utils.check_cell_numbers(BF, tracked)\n",
    "while bad_frames is not None:\n",
    "    bad_frames = mu.track_utils.check_cell_numbers(BF, tracked)\n"
   ]
  },
  {
   "cell_type": "code",
   "execution_count": null,
   "id": "alone-springer",
   "metadata": {},
   "outputs": [],
   "source": [
    "# manual inspection\n",
    "updated_track = mu.manual_segmentation(BF, tracked)\n"
   ]
  },
  {
   "cell_type": "code",
   "execution_count": null,
   "id": "rural-scout",
   "metadata": {},
   "outputs": [],
   "source": []
  }
 ],
 "metadata": {
  "kernelspec": {
   "display_name": "Python 3",
   "language": "python",
   "name": "python3"
  },
  "language_info": {
   "codemirror_mode": {
    "name": "ipython",
    "version": 3
   },
   "file_extension": ".py",
   "mimetype": "text/x-python",
   "name": "python",
   "nbconvert_exporter": "python",
   "pygments_lexer": "ipython3",
   "version": "3.8.5"
  }
 },
 "nbformat": 4,
 "nbformat_minor": 5
}
